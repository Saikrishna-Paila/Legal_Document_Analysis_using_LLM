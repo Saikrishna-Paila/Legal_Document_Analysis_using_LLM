{
 "cells": [
  {
   "cell_type": "markdown",
   "id": "caa8cd98",
   "metadata": {},
   "source": [
    "# Converting Json to Jsonl for Fine-Tune the Model\n"
   ]
  },
  {
   "cell_type": "markdown",
   "id": "b126d991",
   "metadata": {},
   "source": [
    "### Install the necesarry libraries. "
   ]
  },
  {
   "cell_type": "code",
   "execution_count": 154,
   "id": "cbb7c175",
   "metadata": {},
   "outputs": [
    {
     "name": "stdout",
     "output_type": "stream",
     "text": [
      "Defaulting to user installation because normal site-packages is not writeable\n",
      "Requirement already satisfied: openai in /Users/saikrishnapaila/Library/Python/3.9/lib/python/site-packages (1.56.1)\n",
      "Requirement already satisfied: tqdm>4 in /Users/saikrishnapaila/Library/Python/3.9/lib/python/site-packages (from openai) (4.67.1)\n",
      "Requirement already satisfied: jiter<1,>=0.4.0 in /Users/saikrishnapaila/Library/Python/3.9/lib/python/site-packages (from openai) (0.8.0)\n",
      "Requirement already satisfied: typing-extensions<5,>=4.11 in /Users/saikrishnapaila/Library/Python/3.9/lib/python/site-packages (from openai) (4.12.2)\n",
      "Requirement already satisfied: sniffio in /Users/saikrishnapaila/Library/Python/3.9/lib/python/site-packages (from openai) (1.3.1)\n",
      "Requirement already satisfied: anyio<5,>=3.5.0 in /Users/saikrishnapaila/Library/Python/3.9/lib/python/site-packages (from openai) (4.6.2.post1)\n",
      "Requirement already satisfied: distro<2,>=1.7.0 in /Users/saikrishnapaila/Library/Python/3.9/lib/python/site-packages (from openai) (1.9.0)\n",
      "Requirement already satisfied: pydantic<3,>=1.9.0 in /Users/saikrishnapaila/Library/Python/3.9/lib/python/site-packages (from openai) (2.10.3)\n",
      "Requirement already satisfied: httpx<1,>=0.23.0 in /Users/saikrishnapaila/Library/Python/3.9/lib/python/site-packages (from openai) (0.28.0)\n",
      "Requirement already satisfied: idna>=2.8 in /Users/saikrishnapaila/Library/Python/3.9/lib/python/site-packages (from anyio<5,>=3.5.0->openai) (3.10)\n",
      "Requirement already satisfied: exceptiongroup>=1.0.2 in /Users/saikrishnapaila/Library/Python/3.9/lib/python/site-packages (from anyio<5,>=3.5.0->openai) (1.2.2)\n",
      "Requirement already satisfied: certifi in /Users/saikrishnapaila/Library/Python/3.9/lib/python/site-packages (from httpx<1,>=0.23.0->openai) (2024.8.30)\n",
      "Requirement already satisfied: httpcore==1.* in /Users/saikrishnapaila/Library/Python/3.9/lib/python/site-packages (from httpx<1,>=0.23.0->openai) (1.0.7)\n",
      "Requirement already satisfied: h11<0.15,>=0.13 in /Users/saikrishnapaila/Library/Python/3.9/lib/python/site-packages (from httpcore==1.*->httpx<1,>=0.23.0->openai) (0.14.0)\n",
      "Requirement already satisfied: pydantic-core==2.27.1 in /Users/saikrishnapaila/Library/Python/3.9/lib/python/site-packages (from pydantic<3,>=1.9.0->openai) (2.27.1)\n",
      "Requirement already satisfied: annotated-types>=0.6.0 in /Users/saikrishnapaila/Library/Python/3.9/lib/python/site-packages (from pydantic<3,>=1.9.0->openai) (0.7.0)\n",
      "\u001b[33mWARNING: You are using pip version 21.2.4; however, version 24.3.1 is available.\n",
      "You should consider upgrading via the '/Library/Developer/CommandLineTools/usr/bin/python3 -m pip install --upgrade pip' command.\u001b[0m\n",
      "Note: you may need to restart the kernel to use updated packages.\n"
     ]
    }
   ],
   "source": [
    "pip install openai"
   ]
  },
  {
   "cell_type": "code",
   "execution_count": 155,
   "id": "bc699e7c",
   "metadata": {},
   "outputs": [
    {
     "name": "stdout",
     "output_type": "stream",
     "text": [
      "zsh:1: no matches found: openai[datalib]\n",
      "Note: you may need to restart the kernel to use updated packages.\n"
     ]
    }
   ],
   "source": [
    "pip install openai[datalib]"
   ]
  },
  {
   "cell_type": "code",
   "execution_count": 156,
   "id": "c1615b50",
   "metadata": {},
   "outputs": [
    {
     "name": "stdout",
     "output_type": "stream",
     "text": [
      "Defaulting to user installation because normal site-packages is not writeable\n",
      "Requirement already satisfied: urllib3==1.26.6 in /Users/saikrishnapaila/Library/Python/3.9/lib/python/site-packages (1.26.6)\n",
      "\u001b[33mWARNING: You are using pip version 21.2.4; however, version 24.3.1 is available.\n",
      "You should consider upgrading via the '/Library/Developer/CommandLineTools/usr/bin/python3 -m pip install --upgrade pip' command.\u001b[0m\n",
      "Note: you may need to restart the kernel to use updated packages.\n"
     ]
    }
   ],
   "source": [
    "pip install urllib3==1.26.6 "
   ]
  },
  {
   "cell_type": "code",
   "execution_count": 157,
   "id": "646f69d3",
   "metadata": {},
   "outputs": [
    {
     "name": "stdout",
     "output_type": "stream",
     "text": [
      "Defaulting to user installation because normal site-packages is not writeable\n",
      "Requirement already satisfied: python-dotenv in /Users/saikrishnapaila/Library/Python/3.9/lib/python/site-packages (1.0.1)\n",
      "\u001b[33mWARNING: You are using pip version 21.2.4; however, version 24.3.1 is available.\n",
      "You should consider upgrading via the '/Library/Developer/CommandLineTools/usr/bin/python3 -m pip install --upgrade pip' command.\u001b[0m\n",
      "Note: you may need to restart the kernel to use updated packages.\n"
     ]
    }
   ],
   "source": [
    "pip install python-dotenv"
   ]
  },
  {
   "cell_type": "code",
   "execution_count": 158,
   "id": "d26816d3-cef3-4c39-a901-cd7a49d3fcc6",
   "metadata": {},
   "outputs": [
    {
     "name": "stdout",
     "output_type": "stream",
     "text": [
      "Defaulting to user installation because normal site-packages is not writeable\n",
      "Requirement already satisfied: tiktoken in /Users/saikrishnapaila/Library/Python/3.9/lib/python/site-packages (0.8.0)\n",
      "Requirement already satisfied: regex>=2022.1.18 in /Users/saikrishnapaila/Library/Python/3.9/lib/python/site-packages (from tiktoken) (2024.11.6)\n",
      "Requirement already satisfied: requests>=2.26.0 in /Users/saikrishnapaila/Library/Python/3.9/lib/python/site-packages (from tiktoken) (2.32.3)\n",
      "Requirement already satisfied: idna<4,>=2.5 in /Users/saikrishnapaila/Library/Python/3.9/lib/python/site-packages (from requests>=2.26.0->tiktoken) (3.10)\n",
      "Requirement already satisfied: charset-normalizer<4,>=2 in /Users/saikrishnapaila/Library/Python/3.9/lib/python/site-packages (from requests>=2.26.0->tiktoken) (3.4.0)\n",
      "Requirement already satisfied: urllib3<3,>=1.21.1 in /Users/saikrishnapaila/Library/Python/3.9/lib/python/site-packages (from requests>=2.26.0->tiktoken) (1.26.6)\n",
      "Requirement already satisfied: certifi>=2017.4.17 in /Users/saikrishnapaila/Library/Python/3.9/lib/python/site-packages (from requests>=2.26.0->tiktoken) (2024.8.30)\n",
      "\u001b[33mWARNING: You are using pip version 21.2.4; however, version 24.3.1 is available.\n",
      "You should consider upgrading via the '/Library/Developer/CommandLineTools/usr/bin/python3 -m pip install --upgrade pip' command.\u001b[0m\n",
      "Note: you may need to restart the kernel to use updated packages.\n"
     ]
    }
   ],
   "source": [
    "pip install tiktoken"
   ]
  },
  {
   "cell_type": "markdown",
   "id": "ee48e61b",
   "metadata": {},
   "source": [
    "### Import the libraries and enviornment file to gain access to the Open API Key\n",
    "#### The key can be generated here: https://platform.openai.com/account/api-keys"
   ]
  },
  {
   "cell_type": "code",
   "execution_count": 159,
   "id": "70841de5",
   "metadata": {},
   "outputs": [],
   "source": [
    "import os\n",
    "from openai import OpenAI\n",
    "\n",
    "from dotenv import load_dotenv, find_dotenv\n",
    "_ = load_dotenv(find_dotenv()) # read local .env file"
   ]
  },
  {
   "cell_type": "markdown",
   "id": "e5387008",
   "metadata": {},
   "source": [
    "### Authenticate to the API using the API Key\n",
    "#### Pull from environment variables or use openai.api_key = (\"your_key_here\") to hardcode the key"
   ]
  },
  {
   "cell_type": "code",
   "execution_count": 160,
   "id": "7cf566e0",
   "metadata": {},
   "outputs": [],
   "source": [
    "client = OpenAI(\n",
    "  api_key=os.environ['OPENAI_API_KEY']  \n",
    ")"
   ]
  },
  {
   "cell_type": "markdown",
   "id": "79e9e854-9d65-46b9-b08d-7112da95889f",
   "metadata": {},
   "source": [
    "### Helper Functions"
   ]
  },
  {
   "cell_type": "code",
   "execution_count": 162,
   "id": "89a93f9b-ca7e-4a2b-9247-03d2145f1cef",
   "metadata": {},
   "outputs": [
    {
     "name": "stdout",
     "output_type": "stream",
     "text": [
      "Converted JSON to JSONL format successfully. Output file: output.jsonl\n",
      "All examples are valid.\n"
     ]
    }
   ],
   "source": [
    "import json\n",
    "from collections import defaultdict\n",
    "\n",
    "# Updated function to handle multi-turn chat examples and format them in the desired JSONL format\n",
    "def json_to_chat_jsonl(input_file, output_file):\n",
    "    \"\"\"\n",
    "    Converts a JSON file to JSONL format, ensuring multi-turn chat examples\n",
    "    with weight keys are properly formatted.\n",
    "    \"\"\"\n",
    "    try:\n",
    "        # Open and load the input JSON file\n",
    "        with open(input_file, 'r') as f:\n",
    "            data = json.load(f)\n",
    "        \n",
    "        # Open the output file for writing in JSONL format\n",
    "        with open(output_file, 'w') as outfile:\n",
    "            for example in data:\n",
    "                # Process each example and write to JSONL\n",
    "                json.dump(example, outfile)\n",
    "                outfile.write('\\n')\n",
    "        print(f\"Converted JSON to JSONL format successfully. Output file: {output_file}\")\n",
    "    \n",
    "    except Exception as e:\n",
    "        print(f\"Error processing file: {e}\")\n",
    "\n",
    "\n",
    "# Validation function for the dataset structure\n",
    "def validate_chat_format(dataset):\n",
    "    \"\"\"\n",
    "    Validates the structure of chat examples for correctness.\n",
    "    \"\"\"\n",
    "    format_errors = defaultdict(int)\n",
    "\n",
    "    for example in dataset:\n",
    "        if not isinstance(example, dict):\n",
    "            format_errors[\"example_not_dict\"] += 1\n",
    "            continue\n",
    "\n",
    "        messages = example.get(\"messages\", None)\n",
    "        if not messages:\n",
    "            format_errors[\"missing_messages\"] += 1\n",
    "            continue\n",
    "        \n",
    "        for message in messages:\n",
    "            if not isinstance(message, dict):\n",
    "                format_errors[\"message_not_dict\"] += 1\n",
    "                continue\n",
    "\n",
    "            if \"role\" not in message or \"content\" not in message:\n",
    "                format_errors[\"missing_role_or_content\"] += 1\n",
    "\n",
    "            if message.get(\"role\") not in {\"system\", \"user\", \"assistant\"}:\n",
    "                format_errors[\"invalid_role\"] += 1\n",
    "\n",
    "            if \"weight\" in message and message[\"role\"] != \"assistant\":\n",
    "                format_errors[\"invalid_weight\"] += 1\n",
    "\n",
    "    if format_errors:\n",
    "        print(\"Validation errors found:\")\n",
    "        for error_type, count in format_errors.items():\n",
    "            print(f\"{error_type}: {count}\")\n",
    "    else:\n",
    "        print(\"All examples are valid.\")\n",
    "\n",
    "# Example usage\n",
    "# Input: 'input.json' containing chat examples\n",
    "# Output: 'output.jsonl' in the desired JSONL format\n",
    "input_file = 'custom_support.json'\n",
    "output_file = 'output.jsonl'\n",
    "\n",
    "json_to_chat_jsonl(input_file, output_file)\n",
    "\n",
    "# Load the file again for validation if needed\n",
    "with open(input_file, 'r') as f:\n",
    "    dataset = json.load(f)\n",
    "\n",
    "validate_chat_format(dataset)\n"
   ]
  },
  {
   "cell_type": "markdown",
   "id": "c5568135-24bf-4c5d-83ee-47e20d15113f",
   "metadata": {},
   "source": [
    "### Convert JSON to JSONL"
   ]
  },
  {
   "cell_type": "code",
   "execution_count": 163,
   "id": "c78fa9d7-908a-42eb-81eb-69d10d65b92c",
   "metadata": {},
   "outputs": [
    {
     "name": "stdout",
     "output_type": "stream",
     "text": [
      "Converted JSON to JSONL format successfully. Output file: output.jsonl\n"
     ]
    }
   ],
   "source": [
    "json_to_chat_jsonl('custom_support.json', 'output.jsonl')"
   ]
  },
  {
   "cell_type": "markdown",
   "id": "05754c20-deb7-4e3f-8e57-e9907dd6f132",
   "metadata": {},
   "source": [
    "### Check File Format\n",
    "\n",
    "https://cookbook.openai.com/examples/chat_finetuning_data_prep"
   ]
  },
  {
   "cell_type": "code",
   "execution_count": 164,
   "id": "40d9e36d",
   "metadata": {},
   "outputs": [
    {
     "name": "stdout",
     "output_type": "stream",
     "text": [
      "All examples are valid.\n"
     ]
    }
   ],
   "source": [
    "from collections import defaultdict\n",
    "import json\n",
    "\n",
    "def check_chat_format(dataset):\n",
    "    \"\"\"\n",
    "    Validates the structure of multi-turn chat examples.\n",
    "    Ensures messages contain valid roles, keys, and weights where applicable.\n",
    "    \"\"\"\n",
    "    format_errors = defaultdict(int)\n",
    "\n",
    "    for idx, example in enumerate(dataset):\n",
    "        # Check if the example is a dictionary\n",
    "        if not isinstance(example, dict):\n",
    "            format_errors[\"example_not_dict\"] += 1\n",
    "            continue\n",
    "\n",
    "        # Ensure \"messages\" key exists and is a list\n",
    "        messages = example.get(\"messages\", None)\n",
    "        if not messages or not isinstance(messages, list):\n",
    "            format_errors[\"missing_or_invalid_messages\"] += 1\n",
    "            continue\n",
    "\n",
    "        # Check messages within the example\n",
    "        for message in messages:\n",
    "            if not isinstance(message, dict):\n",
    "                format_errors[\"message_not_dict\"] += 1\n",
    "                continue\n",
    "\n",
    "            # Validate \"role\" and \"content\"\n",
    "            if \"role\" not in message or message[\"role\"] not in {\"system\", \"user\", \"assistant\"}:\n",
    "                format_errors[\"invalid_or_missing_role\"] += 1\n",
    "\n",
    "            if \"content\" not in message or not isinstance(message[\"content\"], str):\n",
    "                format_errors[\"invalid_or_missing_content\"] += 1\n",
    "\n",
    "            # Check for unrecognized keys\n",
    "            valid_keys = {\"role\", \"content\", \"weight\"}\n",
    "            unrecognized_keys = set(message.keys()) - valid_keys\n",
    "            if unrecognized_keys:\n",
    "                format_errors[\"unrecognized_keys\"] += 1\n",
    "\n",
    "            # Validate \"weight\" key if present\n",
    "            if \"weight\" in message:\n",
    "                if message[\"role\"] != \"assistant\" or not isinstance(message[\"weight\"], int) or message[\"weight\"] not in {0, 1}:\n",
    "                    format_errors[\"invalid_weight\"] += 1\n",
    "\n",
    "        # Ensure at least one \"assistant\" message exists\n",
    "        if not any(msg.get(\"role\") == \"assistant\" for msg in messages):\n",
    "            format_errors[\"missing_assistant_message\"] += 1\n",
    "\n",
    "    # Report the results\n",
    "    if format_errors:\n",
    "        print(\"Validation errors found:\")\n",
    "        for error_type, count in format_errors.items():\n",
    "            print(f\"{error_type}: {count}\")\n",
    "    else:\n",
    "        print(\"All examples are valid.\")\n",
    "\n",
    "# Example usage\n",
    "data_path = \"output.jsonl\"\n",
    "\n",
    "# Load the dataset\n",
    "with open(data_path, 'r', encoding='utf-8') as f:\n",
    "    dataset = [json.loads(line) for line in f]\n",
    "\n",
    "# Check the format of the dataset\n",
    "check_chat_format(dataset)\n"
   ]
  },
  {
   "cell_type": "code",
   "execution_count": 166,
   "id": "c3a89f4e-b528-4b4e-b687-8458777224af",
   "metadata": {},
   "outputs": [
    {
     "name": "stdout",
     "output_type": "stream",
     "text": [
      "All examples are valid.\n"
     ]
    }
   ],
   "source": [
    "# Format validation\n",
    "\n",
    "check_chat_format(dataset)"
   ]
  }
 ],
 "metadata": {
  "kernelspec": {
   "display_name": "Python 3",
   "language": "python",
   "name": "python3"
  },
  "language_info": {
   "codemirror_mode": {
    "name": "ipython",
    "version": 3
   },
   "file_extension": ".py",
   "mimetype": "text/x-python",
   "name": "python",
   "nbconvert_exporter": "python",
   "pygments_lexer": "ipython3",
   "version": "3.9.6"
  }
 },
 "nbformat": 4,
 "nbformat_minor": 5
}
